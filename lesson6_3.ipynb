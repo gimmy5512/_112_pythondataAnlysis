{
 "cells": [
  {
   "cell_type": "code",
   "execution_count": null,
   "metadata": {},
   "outputs": [],
   "source": [
    "import requests\n",
    "url=''\n",
    "\n",
    "respones=requests.get(url)\n",
    "if respones.ok:\n",
    "    print(respones.text)\n"
   ]
  }
 ],
 "metadata": {
  "language_info": {
   "name": "python"
  },
  "orig_nbformat": 4
 },
 "nbformat": 4,
 "nbformat_minor": 2
}
