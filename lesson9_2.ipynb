{
 "cells": [
  {
   "cell_type": "code",
   "execution_count": 3,
   "metadata": {},
   "outputs": [
    {
     "name": "stdout",
     "output_type": "stream",
     "text": [
      "     國文  英文   數學  地理   社會\n",
      "1    71  97   50  72   51\n",
      "2    90  90   63  67   98\n",
      "3    94  88   69  97   77\n",
      "4    64  73  100  90   71\n",
      "5    64  58   86  86   70\n",
      "6    77  66   86  69   73\n",
      "7    75  71   72  52   66\n",
      "8    72  52   64  68   64\n",
      "9    66  56   68  59   71\n",
      "10   59  86   88  77   52\n",
      "11   94  77   67  92   66\n",
      "12   56  98   97  77   50\n",
      "13   92  61   53  77   83\n",
      "14   79  96   61  98   61\n",
      "15   70  91   61  97   72\n",
      "16   61  76   73  63   51\n",
      "17   82  58   69  75   73\n",
      "18  100  76   91  58   63\n",
      "19   55  54   54  93   66\n",
      "20   89  51   91  82   72\n",
      "21   62  67   94  58   59\n",
      "22   73  92   76  82   57\n",
      "23  100  69   79  95   60\n",
      "24   92  81   65  51   89\n",
      "25   63  51   99  69   62\n",
      "26   94  63   53  79   91\n",
      "27   72  89   78  56  100\n",
      "28   64  91   92  77   90\n",
      "29   69  57   53  62   70\n",
      "30   58  76   67  91   53\n",
      "31   67  64   51  96   91\n",
      "32   71  90   67  67   95\n",
      "33   75  83   72  98   70\n",
      "34   68  98   92  78   63\n",
      "35   59  70   53  63   86\n",
      "36   65  58   91  96   66\n",
      "37   52  86   63  91   53\n",
      "38   64  71   50  71   60\n",
      "39   91  76   82  84   91\n",
      "40   60  81   65  91   63\n",
      "41  100  62   84  72   70\n",
      "42   95  90   60  72   79\n",
      "43   80  52   59  73   91\n",
      "44   89  82   65  50   77\n",
      "45   61  53   91  74   88\n",
      "46   76  99   55  54   59\n",
      "47   62  70   88  89   79\n",
      "48   53  75   72  71   84\n",
      "49   85  65   52  67   86\n",
      "50   76  65   73  79   93\n"
     ]
    }
   ],
   "source": [
    "import numpy as np\n",
    "import pandas as pd\n",
    "import streamlit as st\n",
    "\n",
    "scores_array = np.random.randint(50,high=101,size=(50,5))\n",
    "student_dataFrame = pd.DataFrame(data=scores_array,\n",
    "             columns=[\"國文\",\"英文\",\"數學\",\"地理\",\"社會\"],\n",
    "             index=range(1,51))\n",
    "print(student_dataFrame)\n",
    "\n",
    "st.header(\"3年5班成績表\")\n",
    "#st.table(data=student_dataFrame)\n",
    "st.dataframe(data=student_dataFrame)\n",
    "\n",
    "\n"
   ]
  }
 ],
 "metadata": {
  "kernelspec": {
   "display_name": "Python 3",
   "language": "python",
   "name": "python3"
  },
  "language_info": {
   "codemirror_mode": {
    "name": "ipython",
    "version": 3
   },
   "file_extension": ".py",
   "mimetype": "text/x-python",
   "name": "python",
   "nbconvert_exporter": "python",
   "pygments_lexer": "ipython3",
   "version": "3.10.11"
  },
  "orig_nbformat": 4
 },
 "nbformat": 4,
 "nbformat_minor": 2
}
