import pandas as pd
pd.read_csv('codeSearch.csv',usecols=['code','name'])