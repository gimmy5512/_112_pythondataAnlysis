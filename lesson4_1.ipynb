{
 "cells": [
  {
   "cell_type": "code",
   "execution_count": 1,
   "metadata": {},
   "outputs": [
    {
     "name": "stdout",
     "output_type": "stream",
     "text": [
      "以存足36220\n"
     ]
    }
   ],
   "source": [
    "#小明想要存錢買一輛機車,機車每輛30000元，他將每月存的錢輸入，當存款足夠買機車時，就顯示提示訊息告知\n",
    "\n",
    "\n",
    "deposit=0#建立變數\n",
    "num=0\n",
    "while(deposit<30000):#比較值\n",
    "    num+=1\n",
    "    input_value=int(input(f\"請輸入第{num}月份的存款:\"))\n",
    "    deposit+=input_value#改變值\n",
    "print(f\"總共存了{num}月,共存了{deposit}\")\n",
    "\n"
   ]
  },
  {
   "cell_type": "code",
   "execution_count": 2,
   "metadata": {},
   "outputs": [
    {
     "name": "stdout",
     "output_type": "stream",
     "text": [
      "總共存了5月,共存了31008\n"
     ]
    }
   ],
   "source": [
    "#小明想要存錢買一輛機車,機車每輛30000元，他將每月存的錢輸入，當存款足夠買機車時，就顯示提示訊息告知\n",
    "\n",
    "\n",
    "deposit=0#建立變數\n",
    "num=0\n",
    "while(True):#比較值\n",
    "    num+=1\n",
    "    input_value=int(input(f\"請輸入第{num}月份的存款:\"))\n",
    "    deposit+=input_value#改變值\n",
    "    if(deposit>=30000):\n",
    "        break\n",
    "print(f\"總共存了{num}月,共存了{deposit}\")"
   ]
  },
  {
   "cell_type": "code",
   "execution_count": 9,
   "metadata": {},
   "outputs": [
    {
     "name": "stdout",
     "output_type": "stream",
     "text": [
      "所有輸入的正偶數加總是:0\n"
     ]
    }
   ],
   "source": [
    "#請設計一個程式，讓使用者輸入數值，只有加總正偶數值，不加總正奇數值，如果輸入負數，結束程式。\n",
    "num = 0\n",
    "sum = 0\n",
    "while(True):\n",
    "    num += 1\n",
    "    input_num = int(input(f\"請輸入第{num}個數值:\"))\n",
    "    if input_num < 0:\n",
    "        break\n",
    "    elif input_num % 2 == 1:\n",
    "        continue\n",
    "    else:\n",
    "        sum += input_num\n",
    "        \n",
    "print(f\"所有輸入的正偶數加總是:{sum}\")\n"
   ]
  },
  {
   "cell_type": "code",
   "execution_count": 13,
   "metadata": {},
   "outputs": [
    {
     "name": "stdout",
     "output_type": "stream",
     "text": [
      "50的因數是:\n",
      "1\n",
      "2\n",
      "5\n",
      "10\n",
      "25\n",
      "50\n",
      "===============結束\n"
     ]
    }
   ],
   "source": [
    "#求因數\n",
    "num=int(input(\"請輸入一個數值,並求其因數\"))\n",
    "print(f\"{num}的因數是:\")\n",
    "for i in range(1,num+1):\n",
    "    if num%i==0:\n",
    "        print(i)\n",
    "print(\"===============結束\")\n",
    "\n"
   ]
  },
  {
   "cell_type": "code",
   "execution_count": 15,
   "metadata": {},
   "outputs": [
    {
     "name": "stdout",
     "output_type": "stream",
     "text": [
      "10的因數是:\n",
      "1\n",
      "2\n",
      "5\n",
      "10\n",
      "===============結束\n"
     ]
    }
   ],
   "source": [
    "#自訂一個function\n",
    "def get_fator():\n",
    "    num=int(input(\"請輸入一個數值,並求其因數\"))\n",
    "    print(f\"{num}的因數是:\")\n",
    "    for i in range(1,num+1):\n",
    "        if num%i==0:\n",
    "            print(i)\n",
    "    print(\"===============結束\")\n",
    "\n"
   ]
  },
  {
   "cell_type": "code",
   "execution_count": 16,
   "metadata": {},
   "outputs": [
    {
     "name": "stdout",
     "output_type": "stream",
     "text": [
      "12的因數是:\n",
      "1\n",
      "2\n",
      "3\n",
      "4\n",
      "6\n",
      "12\n",
      "===============結束\n",
      "56的因數是:\n",
      "1\n",
      "2\n",
      "4\n",
      "7\n",
      "8\n",
      "14\n",
      "28\n",
      "56\n",
      "===============結束\n",
      "78的因數是:\n",
      "1\n",
      "2\n",
      "3\n",
      "6\n",
      "13\n",
      "26\n",
      "39\n",
      "78\n",
      "===============結束\n"
     ]
    }
   ],
   "source": [
    "#---------\n",
    "for i in range(3):\n",
    "    get_fator()"
   ]
  },
  {
   "cell_type": "code",
   "execution_count": 17,
   "metadata": {},
   "outputs": [
    {
     "data": {
      "text/plain": [
       "(78, 92, 35, 41, 69)"
      ]
     },
     "execution_count": 17,
     "metadata": {},
     "output_type": "execute_result"
    }
   ],
   "source": [
    "#list\n",
    "nums=[78,92,35,41,69]\n",
    "nums[0],nums[1],nums[2],nums[3],nums[4]\n"
   ]
  },
  {
   "cell_type": "code",
   "execution_count": 18,
   "metadata": {},
   "outputs": [
    {
     "name": "stdout",
     "output_type": "stream",
     "text": [
      "78\n",
      "92\n",
      "35\n",
      "41\n",
      "69\n"
     ]
    }
   ],
   "source": [
    "for i in range(5):\n",
    "    print(nums[i])"
   ]
  },
  {
   "cell_type": "code",
   "execution_count": 19,
   "metadata": {},
   "outputs": [
    {
     "name": "stdout",
     "output_type": "stream",
     "text": [
      "78\n",
      "92\n",
      "35\n",
      "41\n",
      "69\n"
     ]
    }
   ],
   "source": [
    "for item in nums:\n",
    "    print(item)"
   ]
  }
 ],
 "metadata": {
  "kernelspec": {
   "display_name": "Python 3",
   "language": "python",
   "name": "python3"
  },
  "language_info": {
   "codemirror_mode": {
    "name": "ipython",
    "version": 3
   },
   "file_extension": ".py",
   "mimetype": "text/x-python",
   "name": "python",
   "nbconvert_exporter": "python",
   "pygments_lexer": "ipython3",
   "version": "3.9.16"
  },
  "orig_nbformat": 4
 },
 "nbformat": 4,
 "nbformat_minor": 2
}
