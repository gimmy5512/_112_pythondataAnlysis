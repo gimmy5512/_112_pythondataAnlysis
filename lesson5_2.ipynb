{
 "cells": [
  {
   "cell_type": "code",
   "execution_count": 1,
   "metadata": {},
   "outputs": [
    {
     "name": "stdout",
     "output_type": "stream",
     "text": [
      "3\n",
      "11\n",
      "3\n",
      "4\n",
      "17\n",
      "26\n",
      "20\n"
     ]
    }
   ],
   "source": [
    "#撰寫一個大樂透電腦自動選號程式,程式執行會以亂數的方式顯示1~49之間七個不重複的大樂透號碼\n",
    "import random\n",
    "\n",
    "for _ in range(7):\n",
    "    print(random.randint(1,49))\n"
   ]
  },
  {
   "cell_type": "code",
   "execution_count": 6,
   "metadata": {},
   "outputs": [
    {
     "name": "stdout",
     "output_type": "stream",
     "text": [
      "3 4 21 28 30 33 42 "
     ]
    }
   ],
   "source": [
    "import random\n",
    "loto=set()\n",
    "\n",
    "while(len(loto)<7):\n",
    "    loto.add(random.randint(1,49))\n",
    "\n",
    "sort_loto=sorted(loto)\n",
    "for item in sort_loto:\n",
    "    print(item,end=\" \")\n",
    "    "
   ]
  },
  {
   "cell_type": "code",
   "execution_count": null,
   "metadata": {},
   "outputs": [],
   "source": []
  }
 ],
 "metadata": {
  "kernelspec": {
   "display_name": "Python 3",
   "language": "python",
   "name": "python3"
  },
  "language_info": {
   "codemirror_mode": {
    "name": "ipython",
    "version": 3
   },
   "file_extension": ".py",
   "mimetype": "text/x-python",
   "name": "python",
   "nbconvert_exporter": "python",
   "pygments_lexer": "ipython3",
   "version": "3.9.16"
  },
  "orig_nbformat": 4
 },
 "nbformat": 4,
 "nbformat_minor": 2
}
