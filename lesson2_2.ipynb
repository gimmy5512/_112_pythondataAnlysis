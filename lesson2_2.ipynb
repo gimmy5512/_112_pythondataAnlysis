{
 "cells": [
  {
   "cell_type": "code",
   "execution_count": 15,
   "metadata": {},
   "outputs": [
    {
     "name": "stdout",
     "output_type": "stream",
     "text": [
      "5\n"
     ]
    }
   ],
   "source": [
    "n=5\n",
    "m=10\n",
    "result=input(f\"請輸入{n}+{m}數值:\")\n",
    "print(result)\n",
    "#字串插補:字串整合變數,輸出一個字串"
   ]
  },
  {
   "cell_type": "code",
   "execution_count": 16,
   "metadata": {},
   "outputs": [
    {
     "name": "stdout",
     "output_type": "stream",
     "text": [
      "10\n"
     ]
    }
   ],
   "source": [
    "n=123\n",
    "m=456\n",
    "result=input(f\"請輸入{n}+{m}數值:\")\n",
    "print(result)"
   ]
  },
  {
   "cell_type": "code",
   "execution_count": 17,
   "metadata": {},
   "outputs": [
    {
     "ename": "ValueError",
     "evalue": "could not convert string to float: ''",
     "output_type": "error",
     "traceback": [
      "\u001b[0;31m---------------------------------------------------------------------------\u001b[0m",
      "\u001b[0;31mValueError\u001b[0m                                Traceback (most recent call last)",
      "Cell \u001b[0;32mIn[17], line 5\u001b[0m\n\u001b[1;32m      1\u001b[0m \u001b[39m#請輸入一個數:87.9\u001b[39;00m\n\u001b[1;32m      2\u001b[0m \u001b[39m#請輸入第二個數:45\u001b[39;00m\n\u001b[1;32m      3\u001b[0m \u001b[39m#請輸入第三個數:87.5\u001b[39;00m\n\u001b[1;32m      4\u001b[0m n\u001b[39m=\u001b[39m\u001b[39mfloat\u001b[39m(\u001b[39minput\u001b[39m(\u001b[39m\"\u001b[39m\u001b[39m請輸入第一個數:\u001b[39m\u001b[39m\"\u001b[39m))\n\u001b[0;32m----> 5\u001b[0m m\u001b[39m=\u001b[39m\u001b[39mfloat\u001b[39;49m(\u001b[39minput\u001b[39;49m(\u001b[39m\"\u001b[39;49m\u001b[39m請輸入第二個數:\u001b[39;49m\u001b[39m\"\u001b[39;49m))\n\u001b[1;32m      6\u001b[0m x\u001b[39m=\u001b[39m\u001b[39mfloat\u001b[39m(\u001b[39minput\u001b[39m(\u001b[39m\"\u001b[39m\u001b[39m請輸入第三個數:\u001b[39m\u001b[39m\"\u001b[39m))\n\u001b[1;32m      8\u001b[0m result\u001b[39m=\u001b[39mn\u001b[39m+\u001b[39mm\u001b[39m+\u001b[39mx\n",
      "\u001b[0;31mValueError\u001b[0m: could not convert string to float: ''"
     ]
    }
   ],
   "source": [
    "#請輸入一個數:87.9\n",
    "#請輸入第二個數:45\n",
    "#請輸入第三個數:87.5\n",
    "n=float(input(\"請輸入第一個數:\"))\n",
    "m=float(input(\"請輸入第二個數:\"))\n",
    "x=float(input(\"請輸入第三個數:\"))\n",
    "\n",
    "result=n+m+x\n",
    "print(f\"{n}+{m}+{x}={result}\")\n"
   ]
  },
  {
   "cell_type": "code",
   "execution_count": null,
   "metadata": {},
   "outputs": [
    {
     "name": "stdout",
     "output_type": "stream",
     "text": [
      "總和為=120.0\n"
     ]
    }
   ],
   "source": [
    "#請輸入一個數:87.9\n",
    "#請輸入第二個數:45\n",
    "#請輸入第三個數:87.5\n",
    "result=0\n",
    "n=float(input(\"請輸入第一個數:\"))\n",
    "result+=n\n",
    "n=float(input(\"請輸入第二個數:\"))\n",
    "result+=n\n",
    "n=float(input(\"請輸入第三個數:\"))\n",
    "result+=n\n",
    "\n",
    "print(f\"總和為={result}\")"
   ]
  },
  {
   "attachments": {},
   "cell_type": "markdown",
   "metadata": {},
   "source": [
    "請輸入梯形的上底(公分):5\n",
    "請輸入梯形的下底(公分):10\n",
    "請輸入梯形的高(公分):2\n",
    "梯形的面積:15平方公分"
   ]
  },
  {
   "cell_type": "code",
   "execution_count": 20,
   "metadata": {},
   "outputs": [
    {
     "name": "stdout",
     "output_type": "stream",
     "text": [
      "梯形的面積:15.0平方公分\n"
     ]
    }
   ],
   "source": [
    "x=float(input(\"請輸入梯形的上底:\"))\n",
    "y=float(input(\"請輸入梯形的下底:\"))\n",
    "z=float(input(\"請輸入梯形的高:\"))\n",
    "\n",
    "result=((x+y)*z)/2\n",
    "print(f\"梯形的面積:{result}平方公分\")"
   ]
  },
  {
   "attachments": {},
   "cell_type": "markdown",
   "metadata": {},
   "source": [
    "-讓使用者輸入直角三角形的對邊\n",
    "-讓使用者輸入直角三角形的斜邊\n",
    "-計算角度\n",
    "\n",
    "-請輸入對邊:2.5\n",
    "-請輸入斜邊:5\n",
    "-直角三角形的角度為:\n",
    "\n",
    "-公式:\n",
    "\n",
    "   sin(x)=對邊/斜邊\n",
    "   x是radian(弧度)\n",
    "   "
   ]
  },
  {
   "cell_type": "code",
   "execution_count": 23,
   "metadata": {},
   "outputs": [
    {
     "name": "stdout",
     "output_type": "stream",
     "text": [
      "直角三角形的角度為:36.87\n"
     ]
    }
   ],
   "source": [
    "import math\n",
    "m = float(input(\"請輸入對邊:\"))\n",
    "n = float(input(\"請輸入斜邊:\"))\n",
    "degree = math.degrees(math.asin(m/n))\n",
    "print(f\"直角三角形的角度為:{round(degree,2)}\")\n"
   ]
  },
  {
   "cell_type": "code",
   "execution_count": null,
   "metadata": {},
   "outputs": [],
   "source": []
  }
 ],
 "metadata": {
  "kernelspec": {
   "display_name": "Python 3",
   "language": "python",
   "name": "python3"
  },
  "language_info": {
   "codemirror_mode": {
    "name": "ipython",
    "version": 3
   },
   "file_extension": ".py",
   "mimetype": "text/x-python",
   "name": "python",
   "nbconvert_exporter": "python",
   "pygments_lexer": "ipython3",
   "version": "3.10.4"
  },
  "orig_nbformat": 4
 },
 "nbformat": 4,
 "nbformat_minor": 2
}
