{
 "cells": [
  {
   "cell_type": "code",
   "execution_count": 1,
   "metadata": {},
   "outputs": [
    {
     "name": "stdout",
     "output_type": "stream",
     "text": [
      "<class 'int'>\n"
     ]
    }
   ],
   "source": [
    "print(type(13))"
   ]
  },
  {
   "cell_type": "code",
   "execution_count": 2,
   "metadata": {},
   "outputs": [
    {
     "data": {
      "text/plain": [
       "(True, False)"
      ]
     },
     "execution_count": 2,
     "metadata": {},
     "output_type": "execute_result"
    }
   ],
   "source": [
    "5==5,3==5"
   ]
  },
  {
   "cell_type": "code",
   "execution_count": 4,
   "metadata": {},
   "outputs": [
    {
     "name": "stdout",
     "output_type": "stream",
     "text": [
      "未滿18\n",
      "不可以考駕照\n",
      "應用程式結束\n"
     ]
    }
   ],
   "source": [
    "age=12\n",
    "if age>=18:#單項選擇\n",
    "    print(\"已經滿18\")\n",
    "    print(\"可以考駕照\")\n",
    "else:\n",
    "    print(\"未滿18\")\n",
    "    print(\"不可以考駕照\")\n",
    "\n",
    "print(\"應用程式結束\")"
   ]
  },
  {
   "attachments": {},
   "cell_type": "markdown",
   "metadata": {},
   "source": [
    "• 90(含)~100分為「優」 <br>\n",
    "• 80(含)~89分為「甲」 <br>\n",
    "• 70(含)~79分為「乙」 <br>\n",
    "• 60(含)~69分為「丙」<br>\n",
    "• 0(含)~59分為「丁」<br>"
   ]
  },
  {
   "cell_type": "code",
   "execution_count": 7,
   "metadata": {},
   "outputs": [
    {
     "name": "stdout",
     "output_type": "stream",
     "text": [
      "目前分數為80,成績等級為:甲\n"
     ]
    }
   ],
   "source": [
    "score=int(input(\"請輸入分數\"))\n",
    "\n",
    "if score>=90:\n",
    "    grade=\"優\"\n",
    "elif score>=80 :\n",
    "    grade=\"甲\"\n",
    "elif score>=70:\n",
    "    grade=\"乙\"\n",
    "elif score>=60:\n",
    "    grade=\"丙\"\n",
    "else:\n",
    "    grade=\"丁\"\n",
    "\n",
    "print(f\"目前分數為{score},成績等級為:{grade}\")"
   ]
  },
  {
   "cell_type": "code",
   "execution_count": 8,
   "metadata": {},
   "outputs": [
    {
     "name": "stdout",
     "output_type": "stream",
     "text": [
      "已經滿18\n",
      "可以考駕照\n",
      "應用程式結束\n"
     ]
    }
   ],
   "source": [
    "age=12\n",
    "if not age>=18:#單項選擇\n",
    "    print(\"已經滿18\")\n",
    "    print(\"可以考駕照\")\n",
    "else:\n",
    "    print(\"未滿18\")\n",
    "    print(\"不可以考駕照\")\n",
    "\n",
    "print(\"應用程式結束\")"
   ]
  },
  {
   "cell_type": "code",
   "execution_count": 11,
   "metadata": {},
   "outputs": [
    {
     "name": "stdout",
     "output_type": "stream",
     "text": [
      "獎金為0\n"
     ]
    }
   ],
   "source": [
    "#邏輯運算子\n",
    "chinese=20\n",
    "math=50\n",
    "if chinese==100 and math==100:\n",
    "    bonus=1000\n",
    "elif chinese==100 or math==100:\n",
    "    bonus=500\n",
    "else:\n",
    "    bonus=0\n",
    "\n",
    "print(f\"獎金為{bonus}\")\n"
   ]
  },
  {
   "cell_type": "code",
   "execution_count": 14,
   "metadata": {},
   "outputs": [
    {
     "name": "stdout",
     "output_type": "stream",
     "text": [
      "0\n",
      "1\n",
      "2\n",
      "3\n",
      "4\n"
     ]
    }
   ],
   "source": [
    "for i in range(5):\n",
    "    print(i)"
   ]
  },
  {
   "cell_type": "code",
   "execution_count": 16,
   "metadata": {},
   "outputs": [
    {
     "name": "stdout",
     "output_type": "stream",
     "text": [
      "1\n",
      "2\n",
      "3\n",
      "4\n"
     ]
    }
   ],
   "source": [
    "for i in range(1,5):\n",
    "    print(i)"
   ]
  },
  {
   "cell_type": "code",
   "execution_count": 15,
   "metadata": {},
   "outputs": [
    {
     "name": "stdout",
     "output_type": "stream",
     "text": [
      "1\n",
      "3\n",
      "5\n",
      "7\n",
      "9\n"
     ]
    }
   ],
   "source": [
    "for i in range(1,10,2):\n",
    "    print(i)"
   ]
  },
  {
   "cell_type": "code",
   "execution_count": null,
   "metadata": {},
   "outputs": [],
   "source": []
  }
 ],
 "metadata": {
  "kernelspec": {
   "display_name": "Python 3",
   "language": "python",
   "name": "python3"
  },
  "language_info": {
   "codemirror_mode": {
    "name": "ipython",
    "version": 3
   },
   "file_extension": ".py",
   "mimetype": "text/x-python",
   "name": "python",
   "nbconvert_exporter": "python",
   "pygments_lexer": "ipython3",
   "version": "3.9.16"
  },
  "orig_nbformat": 4
 },
 "nbformat": 4,
 "nbformat_minor": 2
}
